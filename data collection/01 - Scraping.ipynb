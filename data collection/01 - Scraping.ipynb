{
 "cells": [
  {
   "cell_type": "code",
   "execution_count": null,
   "metadata": {},
   "outputs": [],
   "source": [
    "import pandas as pd\n",
    "import copy\n",
    "import numpy as np"
   ]
  },
  {
   "cell_type": "code",
   "execution_count": null,
   "metadata": {},
   "outputs": [],
   "source": [
    "# Import the dataframe\n",
    "df_lombardia = pd.read_csv('/Users/dilettaferri/Desktop/UNIPI/SNA - Project/Project/df_lombardia.csv')"
   ]
  },
  {
   "cell_type": "code",
   "execution_count": null,
   "metadata": {},
   "outputs": [],
   "source": [
    "df_lombardia"
   ]
  },
  {
   "cell_type": "code",
   "execution_count": null,
   "metadata": {},
   "outputs": [],
   "source": [
    "# Counts of the different types of entities\n",
    "df_lombardia['Sezione'].value_counts()"
   ]
  },
  {
   "cell_type": "code",
   "execution_count": null,
   "metadata": {},
   "outputs": [],
   "source": [
    "# Save the list of names in lista_denominazioni\n",
    "lista_denominazioni = df_lombardia['Denominazione'].tolist()\n",
    "lista_denominazioni"
   ]
  },
  {
   "cell_type": "code",
   "execution_count": null,
   "metadata": {},
   "outputs": [],
   "source": []
  },
  {
   "cell_type": "markdown",
   "metadata": {},
   "source": [
    "<h3>Scraping - get info from the RUNTS page</h3>"
   ]
  },
  {
   "cell_type": "code",
   "execution_count": null,
   "metadata": {},
   "outputs": [],
   "source": [
    "# Import libraries\n",
    "from selenium import webdriver\n",
    "from selenium.webdriver.chrome.service import Service\n",
    "from selenium.webdriver.common.keys import Keys\n",
    "from selenium.webdriver.common.by import By\n",
    "from selenium.common.exceptions import TimeoutException, NoSuchElementException\n",
    "from selenium.webdriver.support.ui import WebDriverWait\n",
    "from selenium.webdriver.support import expected_conditions as EC\n",
    "from selenium.webdriver.common.action_chains import ActionChains\n",
    "import time"
   ]
  },
  {
   "cell_type": "markdown",
   "metadata": {},
   "source": [
    "<h5>Connection to the driver and get to the page</h5>"
   ]
  },
  {
   "cell_type": "code",
   "execution_count": null,
   "metadata": {},
   "outputs": [],
   "source": [
    "# Chromedriver path\n",
    "service = Service('/Users/dilettaferri/Desktop/UNIPI/SNA - Project/Project/chromedriver-mac-arm64/chromedriver')  \n",
    "\n",
    "# Initiailzation of the Chrome driver using the class Service \n",
    "driver = webdriver.Chrome(service=service)"
   ]
  },
  {
   "cell_type": "code",
   "execution_count": null,
   "metadata": {},
   "outputs": [],
   "source": [
    "# Connect to the RUNTS research page\n",
    "driver.get(\"https://servizi.lavoro.gov.it/runts/it-it/Ricerca-enti\")"
   ]
  },
  {
   "cell_type": "code",
   "execution_count": null,
   "metadata": {},
   "outputs": [],
   "source": []
  },
  {
   "cell_type": "markdown",
   "metadata": {},
   "source": [
    "<h5>Definition of the functions</h5>"
   ]
  },
  {
   "cell_type": "code",
   "execution_count": null,
   "metadata": {},
   "outputs": [],
   "source": [
    "# Decline cookies\n",
    "def rifiuta_cookies():\n",
    "    decline_cookies_click = driver.find_element(By.LINK_TEXT,'RIFIUTA')\n",
    "    decline_cookies_click.click()"
   ]
  },
  {
   "cell_type": "code",
   "execution_count": null,
   "metadata": {},
   "outputs": [],
   "source": [
    "# Input and search the name\n",
    "def input_name(nome):\n",
    "    search_bar_denominazione = driver.find_element(By.ID,\"dnn_ctr446_View_txtDenominazione\") #trova la barra del nome\n",
    "    search_bar_denominazione.clear() # Make sure the search bar is empty\n",
    "    search_bar_denominazione.send_keys(nome) # Insert the name\n",
    "    search_bar_denominazione.send_keys(Keys.RETURN) # Press Return"
   ]
  },
  {
   "cell_type": "code",
   "execution_count": null,
   "metadata": {},
   "outputs": [],
   "source": [
    "# Enters the \"Dettagli\" section with the button in the first line of the table\n",
    "def press_dettagli():\n",
    "    try: \n",
    "        button_dettagli = driver.find_element(By.ID,\"dnn_ctr446_View_gvEnti_btnDettaglio_0\")\n",
    "        driver.execute_script(\"arguments[0].scrollIntoView();\", button_dettagli) # Make sure the \"Dettagli\" button is visible\n",
    "        button_dettagli.click() # Click the button\n",
    "    except TimeoutException:\n",
    "        # If the button isn't found\n",
    "        raise TimeoutException(\"Il pulsante 'dettagli' non è stato trovato o non è cliccabile.\")"
   ]
  },
  {
   "cell_type": "code",
   "execution_count": null,
   "metadata": {},
   "outputs": [],
   "source": [
    "# Get and save the geographic info of the legal headquarters\n",
    "\n",
    "def get_geo_info(stato_list, provincia_list, comune_list, indirizzo_list):\n",
    "    element = driver.find_element(By.ID,\"dnn_ctr448_View_spnStatoSL\") # Find the State\n",
    "    driver.execute_script(\"arguments[0].scrollIntoView();\", element) # Make sure it's visible\n",
    "    stato = element.text # Get the text in the element\n",
    "    stato_list.append(stato) # Append to the list\n",
    "\n",
    "    # Repeat the same with the province, municipality (comune) and address\n",
    "\n",
    "    element = driver.find_element(By.ID,\"dnn_ctr448_View_spnProvinciaSL\") \n",
    "    driver.execute_script(\"arguments[0].scrollIntoView();\", element) \n",
    "    provincia = element.text \n",
    "    provincia_list.append(provincia) \n",
    "\n",
    "    element = driver.find_element(By.ID,\"dnn_ctr448_View_spnComuneSL\") \n",
    "    driver.execute_script(\"arguments[0].scrollIntoView();\", element) \n",
    "    comune = element.text\n",
    "    comune_list.append(comune) \n",
    "\n",
    "    # Try/ except to deal with the case of no address\n",
    "    try:\n",
    "        element = driver.find_element(By.ID,\"dnn_ctr448_View_spnIndirizzoSL\") \n",
    "        driver.execute_script(\"arguments[0].scrollIntoView();\", element) \n",
    "        indirizzo = element.text \n",
    "    except:\n",
    "        indirizzo = None\n",
    "    indirizzo_list.append(indirizzo) \n",
    "    \n",
    "    return stato_list, provincia_list, comune_list, indirizzo_list"
   ]
  },
  {
   "cell_type": "code",
   "execution_count": null,
   "metadata": {},
   "outputs": [],
   "source": []
  },
  {
   "cell_type": "markdown",
   "metadata": {},
   "source": [
    "<h5>Definition of the denominations and the dataset in 1000 record chuncks and execution of the functions </h5>"
   ]
  },
  {
   "cell_type": "markdown",
   "metadata": {},
   "source": [
    "This choice allows not to process the whole dataset at once, in order to easily deal with errors"
   ]
  },
  {
   "cell_type": "code",
   "execution_count": null,
   "metadata": {},
   "outputs": [],
   "source": [
    "# Split the denomination list in 1000 records chunks -> 18 lists with at max 1000 elements\n",
    "split_lists = [lista_denominazioni[i:i + 1000] for i in range(0, len(lista_denominazioni), 1000)]\n"
   ]
  },
  {
   "cell_type": "code",
   "execution_count": null,
   "metadata": {},
   "outputs": [],
   "source": [
    "len(split_lists)"
   ]
  },
  {
   "cell_type": "code",
   "execution_count": null,
   "metadata": {},
   "outputs": [],
   "source": [
    "# Create empty lists, which will be re-initializated every time a batch of 1000 records is completed\n",
    "stato_list = []\n",
    "provincia_list = []\n",
    "comune_list = []\n",
    "indirizzo_list = []"
   ]
  },
  {
   "cell_type": "code",
   "execution_count": null,
   "metadata": {},
   "outputs": [],
   "source": [
    "# This list allows to process more than one batch of 1000 records at once\n",
    "lista_di_indici = [14,15,16,17] #These indices are of the last 4 batches\n",
    "\n",
    "for j in lista_di_indici:    \n",
    "    for index, nome in enumerate(split_lists[j]):  # Use enumerate to keep track of the indices\n",
    "        try:\n",
    "            input_name(nome)  # Insert name in the search bar\n",
    "            rifiuta_cookies()  # Decline cookies if necessary\n",
    "            \n",
    "            try:\n",
    "                # Try to press the \"Dettagli\" button\n",
    "                press_dettagli()\n",
    "                time.sleep(2)\n",
    "                rifiuta_cookies()  # Decline cookies again, if they appear\n",
    "                \n",
    "                # Get geographic info\n",
    "                stato_list, provincia_list, comune_list, indirizzo_list = get_geo_info(\n",
    "                    stato_list, provincia_list, comune_list, indirizzo_list\n",
    "                )\n",
    "            except TimeoutException:\n",
    "                # If \"Dettagli\" button isn't found before the time runs out\n",
    "                print(f\"Il pulsante 'dettagli' non è stato trovato per il nome: {nome}\")\n",
    "                stato_list.append(None)\n",
    "                provincia_list.append(None)\n",
    "                comune_list.append(None)\n",
    "                indirizzo_list.append(None)\n",
    "            \n",
    "            # Go back in order to deal with the next name\n",
    "            driver.back()\n",
    "            time.sleep(2)\n",
    "\n",
    "            # Print a message every 100 records (to keep track of process)\n",
    "            if (index + 1) % 100 == 0:  \n",
    "                print(f\"Processate {index + 1} righe finora.\")\n",
    "\n",
    "        except Exception as e:\n",
    "            error_message = str(e)\n",
    "            if 'Unable to locate element: {\"method\":\"css selector\",\"selector\":\"[id=\"dnn_ctr446_View_txtDenominazione\"]\"}' in error_message:\n",
    "                print(f\"Elemento non trovato per il nome {nome}. Ricarico la pagina iniziale.\")\n",
    "                driver.get(\"https://servizi.lavoro.gov.it/runts/it-it/Ricerca-enti\")\n",
    "                WebDriverWait(driver, 10).until(\n",
    "                    EC.presence_of_element_located((By.ID, \"dnn_ctr446_View_txtDenominazione\"))\n",
    "                )\n",
    "                print(\"Pagina iniziale ricaricata.\")\n",
    "            else:\n",
    "                print(f\"Errore con il nome {nome}: {e}\")\n",
    "            \n",
    "            stato_list.append(None)\n",
    "            provincia_list.append(None)\n",
    "            comune_list.append(None)\n",
    "            indirizzo_list.append(None)\n",
    "            continue"
   ]
  },
  {
   "cell_type": "code",
   "execution_count": null,
   "metadata": {},
   "outputs": [],
   "source": []
  },
  {
   "cell_type": "code",
   "execution_count": null,
   "metadata": {},
   "outputs": [],
   "source": [
    "# Divide the dataframe in other 1000 records dataframes, to correspond with the lists\n",
    "\n",
    "chunk_size = 1000\n",
    "for i, start in enumerate(range(0, len(df_lombardia), chunk_size)):\n",
    "    globals()[f\"df_{i+1}\"] = df_lombardia[start:start+chunk_size]\n",
    "\n",
    "# They are called from df_1 to df_18\n",
    "# split_lists[0] corresponds with df_1 and so on"
   ]
  },
  {
   "cell_type": "markdown",
   "metadata": {},
   "source": [
    "Each time the indices have to be replaced with the ones that are being processed"
   ]
  },
  {
   "cell_type": "code",
   "execution_count": null,
   "metadata": {},
   "outputs": [],
   "source": [
    "# Save in the different lists of length 1000 the geographical info\n",
    "\n",
    "lista15_stato = stato_list[:1000] \n",
    "lista16_stato = stato_list[1000:2000] \n",
    "lista17_stato = stato_list[2000:3000]\n",
    "lista18_stato = stato_list[3000:]\n",
    "\n",
    "lista15_provincia = provincia_list[:1000] \n",
    "lista16_provincia = provincia_list[1000:2000] \n",
    "lista17_provincia = provincia_list[2000:3000]\n",
    "lista18_provincia = provincia_list[3000:]\n",
    "\n",
    "\n",
    "lista15_comune = comune_list[:1000] \n",
    "lista16_comune = comune_list[1000:2000] \n",
    "lista17_comune = comune_list[2000:3000] \n",
    "lista18_comune = comune_list[3000:]\n",
    "\n",
    "lista15_indirizzo = indirizzo_list[:1000] \n",
    "lista16_indirizzo = indirizzo_list[1000:2000] \n",
    "lista17_indirizzo = indirizzo_list[2000:3000] \n",
    "lista18_indirizzo = indirizzo_list[3000:]"
   ]
  },
  {
   "cell_type": "code",
   "execution_count": null,
   "metadata": {},
   "outputs": [],
   "source": [
    "df_18 "
   ]
  },
  {
   "cell_type": "code",
   "execution_count": null,
   "metadata": {},
   "outputs": [],
   "source": [
    "# Create the new columns of the dataframe adding the geographical info \n",
    "# Repeated with each 1000 records list\n",
    "df_18['stato'] = lista18_stato\n",
    "df_18['provincia'] = lista18_provincia\n",
    "df_18['comune'] = lista18_comune\n",
    "df_18['indirizzo'] = lista18_indirizzo"
   ]
  },
  {
   "cell_type": "code",
   "execution_count": null,
   "metadata": {},
   "outputs": [],
   "source": [
    "# Visualize again to check\n",
    "df_18"
   ]
  },
  {
   "cell_type": "code",
   "execution_count": null,
   "metadata": {},
   "outputs": [],
   "source": [
    "# Check how many \"none\" records are present \n",
    "conteggio_none = df_18.isna().sum()\n",
    "conteggio_none\n"
   ]
  },
  {
   "cell_type": "code",
   "execution_count": null,
   "metadata": {},
   "outputs": [],
   "source": [
    "# Save locally the df in order to save the precise address\n",
    "\n",
    "# Specify the path and the name - change each time\n",
    "file_path='/Users/dilettaferri/Desktop/UNIPI/SNA - Project/Project/dataframe con indirizzi/df_18.csv'\n",
    "df_18.to_csv(file_path, index=False)"
   ]
  }
 ],
 "metadata": {
  "language_info": {
   "name": "python"
  }
 },
 "nbformat": 4,
 "nbformat_minor": 2
}
