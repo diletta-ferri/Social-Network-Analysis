{
 "cells": [
  {
   "cell_type": "code",
   "execution_count": null,
   "metadata": {},
   "outputs": [],
   "source": [
    "import pandas as pd\n",
    "import copy\n",
    "import numpy as np"
   ]
  },
  {
   "cell_type": "code",
   "execution_count": null,
   "metadata": {},
   "outputs": [],
   "source": []
  },
  {
   "cell_type": "markdown",
   "metadata": {},
   "source": [
    "<h3>Import file with RUNTS subscribers </h3>"
   ]
  },
  {
   "cell_type": "code",
   "execution_count": null,
   "metadata": {},
   "outputs": [],
   "source": [
    "file_path='Iscritti_20112024.xlsx'\n",
    "df = pd.read_excel(file_path)"
   ]
  },
  {
   "cell_type": "code",
   "execution_count": null,
   "metadata": {},
   "outputs": [],
   "source": [
    "df"
   ]
  },
  {
   "cell_type": "code",
   "execution_count": null,
   "metadata": {},
   "outputs": [],
   "source": [
    "# Counts of the different provinces\n",
    "conteggio_province = df['Provincia Sede legale\\r\\nProvinz Rechtssitz'].value_counts()\n",
    "conteggio_province"
   ]
  },
  {
   "cell_type": "code",
   "execution_count": null,
   "metadata": {},
   "outputs": [],
   "source": [
    "# Dictionary that maps provinces to regions\n",
    "province_to_regione = {\n",
    "    'AG': 'Sicilia', 'AL': 'Piemonte', 'AN': 'Marche', 'AO': 'Valle d\\'Aosta', 'AR': 'Toscana',\n",
    "    'AP': 'Marche', 'AT': 'Piemonte', 'AV': 'Campania', 'BA': 'Puglia', 'BT': 'Puglia',\n",
    "    'BL': 'Veneto', 'BN': 'Campania', 'BG': 'Lombardia', 'BI': 'Piemonte', 'BO': 'Emilia-Romagna',\n",
    "    'BZ': 'Trentino-Alto Adige', 'BS': 'Lombardia', 'BR': 'Puglia', 'CA': 'Sardegna', 'CL': 'Sicilia',\n",
    "    'CB': 'Molise', 'CI': 'Sardegna', 'CE': 'Campania', 'CH': 'Abruzzo', 'CO': 'Lombardia',\n",
    "    'CS': 'Calabria', 'CR': 'Lombardia', 'KR': 'Calabria', 'CN': 'Piemonte', 'EN': 'Sicilia',\n",
    "    'FM': 'Marche', 'FE': 'Emilia-Romagna', 'FI': 'Toscana', 'FG': 'Puglia', 'FC': 'Emilia-Romagna',\n",
    "    'FR': 'Lazio', 'GE': 'Liguria', 'GO': 'Friuli-Venezia Giulia', 'GR': 'Toscana', 'IM': 'Liguria',\n",
    "    'IS': 'Molise', 'SP': 'Liguria', 'LT': 'Lazio', 'LE': 'Puglia', 'LC': 'Lombardia',\n",
    "    'LI': 'Toscana', 'LO': 'Lombardia', 'LU': 'Toscana', 'MC': 'Marche', 'MN': 'Lombardia',\n",
    "    'MS': 'Toscana', 'MT': 'Basilicata', 'ME': 'Sicilia', 'MI': 'Lombardia', 'MO': 'Emilia-Romagna',\n",
    "    'MB': 'Lombardia', 'NA': 'Campania', 'NO': 'Piemonte', 'NU': 'Sardegna', 'OR': 'Sardegna',\n",
    "    'PD': 'Veneto', 'PA': 'Sicilia', 'PR': 'Emilia-Romagna', 'PV': 'Lombardia', 'PG': 'Umbria',\n",
    "    'PS': 'Marche', 'PE': 'Abruzzo', 'PC': 'Emilia-Romagna', 'PI': 'Toscana', 'PT': 'Toscana',\n",
    "    'PN': 'Friuli-Venezia Giulia', 'PZ': 'Basilicata', 'PO': 'Toscana', 'RG': 'Sicilia', 'RA': 'Emilia-Romagna',\n",
    "    'RC': 'Calabria', 'RE': 'Emilia-Romagna', 'RI': 'Lazio', 'RN': 'Emilia-Romagna', 'RM': 'Lazio',\n",
    "    'RO': 'Veneto', 'SA': 'Campania', 'SS': 'Sardegna', 'SV': 'Liguria', 'SI': 'Toscana',\n",
    "    'SR': 'Sicilia', 'SO': 'Lombardia', 'TA': 'Puglia', 'TE': 'Abruzzo', 'TR': 'Umbria',\n",
    "    'TO': 'Piemonte', 'TP': 'Sicilia', 'TN': 'Trentino-Alto Adige', 'TV': 'Veneto', 'TS': 'Friuli-Venezia Giulia',\n",
    "    'UD': 'Friuli-Venezia Giulia', 'VA': 'Lombardia', 'VE': 'Veneto', 'VB': 'Piemonte', 'VC': 'Piemonte',\n",
    "    'VR': 'Veneto', 'VV': 'Calabria', 'VI': 'Veneto', 'VT': 'Lazio'\n",
    "}"
   ]
  },
  {
   "cell_type": "code",
   "execution_count": null,
   "metadata": {},
   "outputs": [],
   "source": [
    "# Create a new column with the Region mapping\n",
    "df['Regione'] = df['Provincia Sede legale\\r\\nProvinz Rechtssitz'].map(province_to_regione)\n"
   ]
  },
  {
   "cell_type": "code",
   "execution_count": null,
   "metadata": {},
   "outputs": [],
   "source": [
    "df"
   ]
  },
  {
   "cell_type": "code",
   "execution_count": null,
   "metadata": {},
   "outputs": [],
   "source": [
    "# Counts of the different regions\n",
    "conteggio_regione = df['Regione'].value_counts()\n",
    "conteggio_regione"
   ]
  },
  {
   "cell_type": "code",
   "execution_count": null,
   "metadata": {},
   "outputs": [],
   "source": [
    "# Counts the different types of entities - These will be the labels of the graph's nodes\n",
    "df['Sezione (**)\\r\\nSektion'].value_counts()"
   ]
  },
  {
   "cell_type": "code",
   "execution_count": null,
   "metadata": {},
   "outputs": [],
   "source": []
  },
  {
   "cell_type": "markdown",
   "metadata": {},
   "source": [
    "<h3>Build the Lombardia dataframe</h3>"
   ]
  },
  {
   "cell_type": "code",
   "execution_count": null,
   "metadata": {},
   "outputs": [],
   "source": [
    "df_lombardia = df[df['Regione'] == 'Lombardia'].reset_index(drop=True)\n",
    "df_lombardia"
   ]
  },
  {
   "cell_type": "code",
   "execution_count": null,
   "metadata": {},
   "outputs": [],
   "source": [
    "df_lombardia.columns"
   ]
  },
  {
   "cell_type": "code",
   "execution_count": null,
   "metadata": {},
   "outputs": [],
   "source": [
    "# Change the names (in order to drop the translation)\n",
    "df_lombardia.columns = ['Codice fiscale', 'Repertorio', 'Denominazione', 'Sezione', 'Cognome rapp legale', 'Nome rapp legale', 'Rete', 'Comune', 'Provincia', '5x1000', 'Data iscrizione', 'Regione'] \n"
   ]
  },
  {
   "cell_type": "code",
   "execution_count": null,
   "metadata": {},
   "outputs": [],
   "source": [
    "df_lombardia"
   ]
  },
  {
   "cell_type": "code",
   "execution_count": null,
   "metadata": {},
   "outputs": [],
   "source": [
    "# Save the df in a csv\n",
    "df_lombardia.to_csv('df_lombardia.csv', index=False) \n"
   ]
  },
  {
   "cell_type": "code",
   "execution_count": null,
   "metadata": {},
   "outputs": [],
   "source": [
    "lista_denominazioni = df_lombardia['Denominazione'].tolist()\n",
    "lista_denominazioni"
   ]
  }
 ],
 "metadata": {
  "language_info": {
   "name": "python"
  }
 },
 "nbformat": 4,
 "nbformat_minor": 2
}
