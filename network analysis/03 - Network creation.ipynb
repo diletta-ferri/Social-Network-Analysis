{
 "cells": [
  {
   "cell_type": "code",
   "execution_count": null,
   "metadata": {},
   "outputs": [],
   "source": [
    "import pandas as pd\n",
    "import numpy as np\n",
    "import matplotlib.pyplot as plt\n",
    "import seaborn as sns"
   ]
  },
  {
   "cell_type": "code",
   "execution_count": null,
   "metadata": {},
   "outputs": [],
   "source": [
    "import networkx as nx"
   ]
  },
  {
   "cell_type": "code",
   "execution_count": null,
   "metadata": {},
   "outputs": [],
   "source": [
    "df_enti =pd.read_csv('df_finale_coordinate.csv')\n",
    "df_enti"
   ]
  },
  {
   "cell_type": "code",
   "execution_count": null,
   "metadata": {},
   "outputs": [],
   "source": [
    "df_distanze =pd.read_csv('df_distanze.csv')\n",
    "df_distanze"
   ]
  },
  {
   "cell_type": "code",
   "execution_count": null,
   "metadata": {},
   "outputs": [],
   "source": [
    "df_distanze.index = df_distanze.columns\n",
    "df_distanze"
   ]
  },
  {
   "cell_type": "code",
   "execution_count": null,
   "metadata": {},
   "outputs": [],
   "source": [
    "# Extract the upper half of the matrix without the diagonal\n",
    "dist_upper = np.triu(df_distanze.values, k=1)  # k=1 esclude la diagonale\n",
    "\n",
    "# Rimuovi gli zeri (posizioni non usate nella metà superiore)\n",
    "distanze_array = dist_upper[dist_upper > 0]"
   ]
  },
  {
   "cell_type": "code",
   "execution_count": null,
   "metadata": {},
   "outputs": [],
   "source": [
    "# Plot dimensions\n",
    "plt.figure(figsize=(15, 10))  \n",
    "\n",
    "# Build the graph\n",
    "sns.histplot(distanze_array, bins=100, kde=True)\n",
    "plt.title('Distance distribution')\n",
    "plt.xlabel('Distance (km)')\n",
    "plt.ylabel('Frequency')\n",
    "plt.show()"
   ]
  },
  {
   "cell_type": "code",
   "execution_count": null,
   "metadata": {},
   "outputs": [],
   "source": []
  },
  {
   "cell_type": "markdown",
   "metadata": {},
   "source": [
    "<h3>Build graph with distance threshold = 2 km</h3>"
   ]
  },
  {
   "cell_type": "markdown",
   "metadata": {},
   "source": [
    "Many different threshold were tried (all with this same code), but a distance = 2km was identified as the best"
   ]
  },
  {
   "cell_type": "code",
   "execution_count": null,
   "metadata": {},
   "outputs": [],
   "source": [
    "# Build a graph with threshold = 2\n",
    "G2 = nx.Graph()  # Build a not-oriented graph\n",
    "\n",
    "# Aggiungi i nodi\n",
    "enti = df_distanze.index  # indexes and columns have the name of the orgs\n",
    "G2.add_nodes_from(enti)\n",
    "\n",
    "labels_dict = df_enti.set_index('Denominazione')['etichetta'].to_dict()\n",
    "\n",
    "nx.set_node_attributes(G2, labels_dict, 'etichetta') # add \"etichetta\" as an attribute for each node"
   ]
  },
  {
   "cell_type": "code",
   "execution_count": null,
   "metadata": {},
   "outputs": [],
   "source": [
    "threshold = 2\n",
    "\n",
    "# Add edges based on the distance \n",
    "for i in range(len(enti)):\n",
    "    for j in range(i + 1, len(enti)):  # Consider only the upper half of the matrix (it's symmetric)\n",
    "        if df_distanze.iloc[i, j] < threshold:\n",
    "            ente_i = enti[i]\n",
    "            ente_j = enti[j]\n",
    "            G2.add_edge(ente_i, ente_j)  \n",
    "        \n",
    "    # This is just a print to monitor the cell    \n",
    "    if i%1000==0:\n",
    "        print('Riga: ', i)"
   ]
  },
  {
   "cell_type": "code",
   "execution_count": null,
   "metadata": {},
   "outputs": [],
   "source": [
    "# Save the graph\n",
    "nx.write_graphml(G2, \"grafo_thr2.graphml\")"
   ]
  }
 ],
 "metadata": {
  "language_info": {
   "name": "python"
  }
 },
 "nbformat": 4,
 "nbformat_minor": 2
}
